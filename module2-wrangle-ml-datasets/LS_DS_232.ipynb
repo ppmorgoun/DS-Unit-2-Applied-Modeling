{
 "cells": [
  {
   "cell_type": "markdown",
   "metadata": {
    "colab_type": "text",
    "id": "RUhphDysw-6P"
   },
   "source": [
    "Lambda School Data Science\n",
    "\n",
    "*Unit 2, Sprint 3, Module 2*\n",
    "\n",
    "---\n"
   ]
  },
  {
   "cell_type": "markdown",
   "metadata": {
    "colab_type": "text",
    "id": "QiHzbgUAw-6R"
   },
   "source": [
    "# Wrangle ML datasets \n",
    "- Explore tabular data for supervised machine learning\n",
    "- Join relational data for supervised machine learning"
   ]
  },
  {
   "cell_type": "markdown",
   "metadata": {},
   "source": [
    "# Explore tabular data for supervised machine learning 🍌"
   ]
  },
  {
   "cell_type": "markdown",
   "metadata": {
    "colab_type": "text",
    "id": "aIhIfXoaw-6S"
   },
   "source": [
    "Wrangling your dataset is often the most challenging and time-consuming part of the modeling process.\n",
    "\n",
    "In today's lesson, we’ll work with a dataset of [3 Million Instacart Orders, Open Sourced](https://tech.instacart.com/3-million-instacart-orders-open-sourced-d40d29ead6f2)!\n",
    "\n",
    "Let’s get set up:"
   ]
  },
  {
   "cell_type": "code",
   "execution_count": 1,
   "metadata": {
    "colab": {
     "base_uri": "https://localhost:8080/",
     "height": 50
    },
    "colab_type": "code",
    "id": "GDhEvgSew-6T",
    "outputId": "8838c044-d905-466b-9dd6-ec92a72fd28e"
   },
   "outputs": [
    {
     "output_type": "stream",
     "name": "stdout",
     "text": [
      "Downloading https://lambdaschool-ds-instruction.s3.amazonaws.com/datasets%3Ainstacart_2017_05_01.tar.gz\n",
      "Downloaded datasets%3Ainstacart_2017_05_01.tar.gz\n"
     ]
    }
   ],
   "source": [
    "# Download data\n",
    "import requests\n",
    "\n",
    "def download(url):\n",
    "    filename = url.split('/')[-1]\n",
    "    print(f'Downloading {url}')\n",
    "    r = requests.get(url)\n",
    "    with open(filename, 'wb') as f:\n",
    "        f.write(r.content)\n",
    "    print(f'Downloaded {filename}')\n",
    "\n",
    "download('https://lambdaschool-ds-instruction.s3.amazonaws.com/datasets%3Ainstacart_2017_05_01.tar.gz')"
   ]
  },
  {
   "cell_type": "code",
   "execution_count": 2,
   "metadata": {
    "colab": {},
    "colab_type": "code",
    "id": "F5LQpRMtw-6W"
   },
   "outputs": [],
   "source": [
    "# Uncompress data\n",
    "import tarfile\n",
    "tarfile.open('datasets%3Ainstacart_2017_05_01.tar.gz').extractall()"
   ]
  },
  {
   "cell_type": "code",
   "execution_count": 3,
   "metadata": {
    "colab": {
     "base_uri": "https://localhost:8080/",
     "height": 34
    },
    "colab_type": "code",
    "id": "gfhCZMj2w-6X",
    "outputId": "defa0ea3-259b-4dbb-a2af-24de5ce92408"
   },
   "outputs": [
    {
     "output_type": "stream",
     "name": "stdout",
     "text": [
      "/Users/petr/Documents/Lambda/Units/Unit 2/Sprint 3/DS-Unit-2-Applied-Modeling/module2-wrangle-ml-datasets/instacart_2017_05_01\n"
     ]
    }
   ],
   "source": [
    "# Change directory to where the data was uncompressed\n",
    "%cd instacart_2017_05_01"
   ]
  },
  {
   "cell_type": "code",
   "execution_count": 4,
   "metadata": {
    "colab": {
     "base_uri": "https://localhost:8080/",
     "height": 118
    },
    "colab_type": "code",
    "id": "fJHLCinIw-6Z",
    "outputId": "068e1b81-6922-43a0-dfeb-f3e304c36589"
   },
   "outputs": [
    {
     "output_type": "stream",
     "name": "stdout",
     "text": [
      "products.csv\norders.csv\norder_products__train.csv\ndepartments.csv\naisles.csv\norder_products__prior.csv\n"
     ]
    }
   ],
   "source": [
    "# Print the csv filenames\n",
    "from glob import glob\n",
    "for filename in glob('*.csv'):\n",
    "    print(filename)"
   ]
  },
  {
   "cell_type": "code",
   "execution_count": 7,
   "metadata": {
    "colab": {
     "base_uri": "https://localhost:8080/",
     "height": 1000
    },
    "colab_type": "code",
    "id": "LS6c-xpUw-6b",
    "outputId": "51753b66-8a73-4dda-bdec-3877b3ce2c57"
   },
   "outputs": [
    {
     "output_type": "stream",
     "name": "stdout",
     "text": [
      "products.csv (49688, 4)\n"
     ]
    },
    {
     "output_type": "display_data",
     "data": {
      "text/plain": "   product_id                                       product_name  aisle_id  \\\n0           1                         Chocolate Sandwich Cookies        61   \n1           2                                   All-Seasons Salt       104   \n2           3               Robust Golden Unsweetened Oolong Tea        94   \n3           4  Smart Ones Classic Favorites Mini Rigatoni Wit...        38   \n4           5                          Green Chile Anytime Sauce         5   \n\n   department_id  \n0             19  \n1             13  \n2              7  \n3              1  \n4             13  ",
      "text/html": "<div>\n<style scoped>\n    .dataframe tbody tr th:only-of-type {\n        vertical-align: middle;\n    }\n\n    .dataframe tbody tr th {\n        vertical-align: top;\n    }\n\n    .dataframe thead th {\n        text-align: right;\n    }\n</style>\n<table border=\"1\" class=\"dataframe\">\n  <thead>\n    <tr style=\"text-align: right;\">\n      <th></th>\n      <th>product_id</th>\n      <th>product_name</th>\n      <th>aisle_id</th>\n      <th>department_id</th>\n    </tr>\n  </thead>\n  <tbody>\n    <tr>\n      <th>0</th>\n      <td>1</td>\n      <td>Chocolate Sandwich Cookies</td>\n      <td>61</td>\n      <td>19</td>\n    </tr>\n    <tr>\n      <th>1</th>\n      <td>2</td>\n      <td>All-Seasons Salt</td>\n      <td>104</td>\n      <td>13</td>\n    </tr>\n    <tr>\n      <th>2</th>\n      <td>3</td>\n      <td>Robust Golden Unsweetened Oolong Tea</td>\n      <td>94</td>\n      <td>7</td>\n    </tr>\n    <tr>\n      <th>3</th>\n      <td>4</td>\n      <td>Smart Ones Classic Favorites Mini Rigatoni Wit...</td>\n      <td>38</td>\n      <td>1</td>\n    </tr>\n    <tr>\n      <th>4</th>\n      <td>5</td>\n      <td>Green Chile Anytime Sauce</td>\n      <td>5</td>\n      <td>13</td>\n    </tr>\n  </tbody>\n</table>\n</div>"
     },
     "metadata": {}
    },
    {
     "output_type": "stream",
     "name": "stdout",
     "text": [
      "orders.csv (3421083, 7)\n"
     ]
    },
    {
     "output_type": "display_data",
     "data": {
      "text/plain": "   order_id  user_id eval_set  order_number  order_dow  order_hour_of_day  \\\n0   2539329        1    prior             1          2                  8   \n1   2398795        1    prior             2          3                  7   \n2    473747        1    prior             3          3                 12   \n3   2254736        1    prior             4          4                  7   \n4    431534        1    prior             5          4                 15   \n\n   days_since_prior_order  \n0                     NaN  \n1                    15.0  \n2                    21.0  \n3                    29.0  \n4                    28.0  ",
      "text/html": "<div>\n<style scoped>\n    .dataframe tbody tr th:only-of-type {\n        vertical-align: middle;\n    }\n\n    .dataframe tbody tr th {\n        vertical-align: top;\n    }\n\n    .dataframe thead th {\n        text-align: right;\n    }\n</style>\n<table border=\"1\" class=\"dataframe\">\n  <thead>\n    <tr style=\"text-align: right;\">\n      <th></th>\n      <th>order_id</th>\n      <th>user_id</th>\n      <th>eval_set</th>\n      <th>order_number</th>\n      <th>order_dow</th>\n      <th>order_hour_of_day</th>\n      <th>days_since_prior_order</th>\n    </tr>\n  </thead>\n  <tbody>\n    <tr>\n      <th>0</th>\n      <td>2539329</td>\n      <td>1</td>\n      <td>prior</td>\n      <td>1</td>\n      <td>2</td>\n      <td>8</td>\n      <td>NaN</td>\n    </tr>\n    <tr>\n      <th>1</th>\n      <td>2398795</td>\n      <td>1</td>\n      <td>prior</td>\n      <td>2</td>\n      <td>3</td>\n      <td>7</td>\n      <td>15.0</td>\n    </tr>\n    <tr>\n      <th>2</th>\n      <td>473747</td>\n      <td>1</td>\n      <td>prior</td>\n      <td>3</td>\n      <td>3</td>\n      <td>12</td>\n      <td>21.0</td>\n    </tr>\n    <tr>\n      <th>3</th>\n      <td>2254736</td>\n      <td>1</td>\n      <td>prior</td>\n      <td>4</td>\n      <td>4</td>\n      <td>7</td>\n      <td>29.0</td>\n    </tr>\n    <tr>\n      <th>4</th>\n      <td>431534</td>\n      <td>1</td>\n      <td>prior</td>\n      <td>5</td>\n      <td>4</td>\n      <td>15</td>\n      <td>28.0</td>\n    </tr>\n  </tbody>\n</table>\n</div>"
     },
     "metadata": {}
    },
    {
     "output_type": "stream",
     "name": "stdout",
     "text": [
      "order_products__train.csv (1384617, 4)\n"
     ]
    },
    {
     "output_type": "display_data",
     "data": {
      "text/plain": "   order_id  product_id  add_to_cart_order  reordered\n0         1       49302                  1          1\n1         1       11109                  2          1\n2         1       10246                  3          0\n3         1       49683                  4          0\n4         1       43633                  5          1",
      "text/html": "<div>\n<style scoped>\n    .dataframe tbody tr th:only-of-type {\n        vertical-align: middle;\n    }\n\n    .dataframe tbody tr th {\n        vertical-align: top;\n    }\n\n    .dataframe thead th {\n        text-align: right;\n    }\n</style>\n<table border=\"1\" class=\"dataframe\">\n  <thead>\n    <tr style=\"text-align: right;\">\n      <th></th>\n      <th>order_id</th>\n      <th>product_id</th>\n      <th>add_to_cart_order</th>\n      <th>reordered</th>\n    </tr>\n  </thead>\n  <tbody>\n    <tr>\n      <th>0</th>\n      <td>1</td>\n      <td>49302</td>\n      <td>1</td>\n      <td>1</td>\n    </tr>\n    <tr>\n      <th>1</th>\n      <td>1</td>\n      <td>11109</td>\n      <td>2</td>\n      <td>1</td>\n    </tr>\n    <tr>\n      <th>2</th>\n      <td>1</td>\n      <td>10246</td>\n      <td>3</td>\n      <td>0</td>\n    </tr>\n    <tr>\n      <th>3</th>\n      <td>1</td>\n      <td>49683</td>\n      <td>4</td>\n      <td>0</td>\n    </tr>\n    <tr>\n      <th>4</th>\n      <td>1</td>\n      <td>43633</td>\n      <td>5</td>\n      <td>1</td>\n    </tr>\n  </tbody>\n</table>\n</div>"
     },
     "metadata": {}
    },
    {
     "output_type": "stream",
     "name": "stdout",
     "text": [
      "departments.csv (21, 2)\n"
     ]
    },
    {
     "output_type": "display_data",
     "data": {
      "text/plain": "   department_id department\n0              1     frozen\n1              2      other\n2              3     bakery\n3              4    produce\n4              5    alcohol",
      "text/html": "<div>\n<style scoped>\n    .dataframe tbody tr th:only-of-type {\n        vertical-align: middle;\n    }\n\n    .dataframe tbody tr th {\n        vertical-align: top;\n    }\n\n    .dataframe thead th {\n        text-align: right;\n    }\n</style>\n<table border=\"1\" class=\"dataframe\">\n  <thead>\n    <tr style=\"text-align: right;\">\n      <th></th>\n      <th>department_id</th>\n      <th>department</th>\n    </tr>\n  </thead>\n  <tbody>\n    <tr>\n      <th>0</th>\n      <td>1</td>\n      <td>frozen</td>\n    </tr>\n    <tr>\n      <th>1</th>\n      <td>2</td>\n      <td>other</td>\n    </tr>\n    <tr>\n      <th>2</th>\n      <td>3</td>\n      <td>bakery</td>\n    </tr>\n    <tr>\n      <th>3</th>\n      <td>4</td>\n      <td>produce</td>\n    </tr>\n    <tr>\n      <th>4</th>\n      <td>5</td>\n      <td>alcohol</td>\n    </tr>\n  </tbody>\n</table>\n</div>"
     },
     "metadata": {}
    },
    {
     "output_type": "stream",
     "name": "stdout",
     "text": [
      "aisles.csv (134, 2)\n"
     ]
    },
    {
     "output_type": "display_data",
     "data": {
      "text/plain": "   aisle_id                       aisle\n0         1       prepared soups salads\n1         2           specialty cheeses\n2         3         energy granola bars\n3         4               instant foods\n4         5  marinades meat preparation",
      "text/html": "<div>\n<style scoped>\n    .dataframe tbody tr th:only-of-type {\n        vertical-align: middle;\n    }\n\n    .dataframe tbody tr th {\n        vertical-align: top;\n    }\n\n    .dataframe thead th {\n        text-align: right;\n    }\n</style>\n<table border=\"1\" class=\"dataframe\">\n  <thead>\n    <tr style=\"text-align: right;\">\n      <th></th>\n      <th>aisle_id</th>\n      <th>aisle</th>\n    </tr>\n  </thead>\n  <tbody>\n    <tr>\n      <th>0</th>\n      <td>1</td>\n      <td>prepared soups salads</td>\n    </tr>\n    <tr>\n      <th>1</th>\n      <td>2</td>\n      <td>specialty cheeses</td>\n    </tr>\n    <tr>\n      <th>2</th>\n      <td>3</td>\n      <td>energy granola bars</td>\n    </tr>\n    <tr>\n      <th>3</th>\n      <td>4</td>\n      <td>instant foods</td>\n    </tr>\n    <tr>\n      <th>4</th>\n      <td>5</td>\n      <td>marinades meat preparation</td>\n    </tr>\n  </tbody>\n</table>\n</div>"
     },
     "metadata": {}
    },
    {
     "output_type": "stream",
     "name": "stdout",
     "text": [
      "order_products__prior.csv (32434489, 4)\n"
     ]
    },
    {
     "output_type": "display_data",
     "data": {
      "text/plain": "   order_id  product_id  add_to_cart_order  reordered\n0         2       33120                  1          1\n1         2       28985                  2          1\n2         2        9327                  3          0\n3         2       45918                  4          1\n4         2       30035                  5          0",
      "text/html": "<div>\n<style scoped>\n    .dataframe tbody tr th:only-of-type {\n        vertical-align: middle;\n    }\n\n    .dataframe tbody tr th {\n        vertical-align: top;\n    }\n\n    .dataframe thead th {\n        text-align: right;\n    }\n</style>\n<table border=\"1\" class=\"dataframe\">\n  <thead>\n    <tr style=\"text-align: right;\">\n      <th></th>\n      <th>order_id</th>\n      <th>product_id</th>\n      <th>add_to_cart_order</th>\n      <th>reordered</th>\n    </tr>\n  </thead>\n  <tbody>\n    <tr>\n      <th>0</th>\n      <td>2</td>\n      <td>33120</td>\n      <td>1</td>\n      <td>1</td>\n    </tr>\n    <tr>\n      <th>1</th>\n      <td>2</td>\n      <td>28985</td>\n      <td>2</td>\n      <td>1</td>\n    </tr>\n    <tr>\n      <th>2</th>\n      <td>2</td>\n      <td>9327</td>\n      <td>3</td>\n      <td>0</td>\n    </tr>\n    <tr>\n      <th>3</th>\n      <td>2</td>\n      <td>45918</td>\n      <td>4</td>\n      <td>1</td>\n    </tr>\n    <tr>\n      <th>4</th>\n      <td>2</td>\n      <td>30035</td>\n      <td>5</td>\n      <td>0</td>\n    </tr>\n  </tbody>\n</table>\n</div>"
     },
     "metadata": {}
    }
   ],
   "source": [
    "# For each csv file, look at its shape & head\n",
    "import pandas as pd\n",
    "from IPython.display import display\n",
    "\n",
    "\n",
    "def preview():\n",
    "    for filename in glob('*.csv'):\n",
    "        df = pd.read_csv(filename)\n",
    "        print(filename, df.shape)\n",
    "        display(df.head())\n",
    "preview()"
   ]
  },
  {
   "cell_type": "markdown",
   "metadata": {
    "colab_type": "text",
    "id": "sRDsZMPnw-6d"
   },
   "source": [
    "### The original task was complex ...\n",
    "\n",
    "[The Kaggle competition said,](https://www.kaggle.com/c/instacart-market-basket-analysis/data):\n",
    "\n",
    "> The dataset for this competition is a relational set of files describing customers' orders over time. The goal of the competition is to predict which products will be in a user's next order.\n",
    "\n",
    "> orders.csv: This file tells to which set (prior, train, test) an order belongs. You are predicting reordered items only for the test set orders.\n",
    "\n",
    "Each row in the submission is an order_id from the test set, followed by product_id(s) predicted to be reordered.\n",
    "\n",
    "> sample_submission.csv: \n",
    "```\n",
    "order_id,products\n",
    "17,39276 29259\n",
    "34,39276 29259\n",
    "137,39276 29259\n",
    "182,39276 29259\n",
    "257,39276 29259\n",
    "```"
   ]
  },
  {
   "cell_type": "markdown",
   "metadata": {
    "colab_type": "text",
    "id": "-VF8Lw_dw-6d"
   },
   "source": [
    "### ... but we can simplify!\n",
    "\n",
    "Simplify the question, from \"Which products will be reordered?\" (Multi-class, [multi-label](https://en.wikipedia.org/wiki/Multi-label_classification) classification) to **\"Will customers reorder this one product?\"** (Binary classification)\n",
    "\n",
    "Which product? How about **the most frequently ordered product?**"
   ]
  },
  {
   "cell_type": "markdown",
   "metadata": {
    "colab_type": "text",
    "id": "1-iS4YGgw-6e"
   },
   "source": [
    "### Questions:\n",
    "\n",
    "- What is the most frequently ordered product?\n",
    "- How often is this product included in a customer's next order?\n",
    "- Which customers have ordered this product before?\n",
    "- How can we get a subset of data, just for these customers?\n",
    "- What features can we engineer? We want to predict, will these customers reorder this product on their next order?"
   ]
  },
  {
   "cell_type": "markdown",
   "metadata": {},
   "source": [
    "## Follow Along"
   ]
  },
  {
   "cell_type": "markdown",
   "metadata": {
    "colab_type": "text",
    "id": "LFvtqzBQw-6e"
   },
   "source": [
    "### What was the most frequently ordered product?"
   ]
  },
  {
   "cell_type": "code",
   "execution_count": 14,
   "metadata": {
    "colab": {},
    "colab_type": "code",
    "id": "lS3CPuksw-6f"
   },
   "outputs": [
    {
     "output_type": "execute_result",
     "data": {
      "text/plain": [
       "24852    18726\n",
       "13176    15480\n",
       "21137    10894\n",
       "21903     9784\n",
       "47626     8135\n",
       "         ...  \n",
       "22373        1\n",
       "25364        1\n",
       "26467        1\n",
       "41652        1\n",
       "27193        1\n",
       "Name: product_id, Length: 39123, dtype: int64"
      ]
     },
     "metadata": {},
     "execution_count": 14
    }
   ],
   "source": [
    "order_products__train=pd.read_csv('order_products__train.csv')\n",
    "order_products__train['product_id'].value_counts()"
   ]
  },
  {
   "cell_type": "code",
   "execution_count": 20,
   "metadata": {},
   "outputs": [
    {
     "output_type": "execute_result",
     "data": {
      "text/plain": [
       "         order_id  product_id  add_to_cart_order  reordered\n",
       "891142    2198380       49688                 10          0\n",
       "1209047   2986153       49688                 16          0\n",
       "269349     655800       49688                 10          1\n",
       "1014644   2508423       49688                  3          0\n",
       "446055    1092104       49687                  1          0\n",
       "...           ...         ...                ...        ...\n",
       "507205    1245784           1                  7          0\n",
       "97272      240996           1                  3          1\n",
       "771078    1897200           1                 24          1\n",
       "19960       48361           1                  9          0\n",
       "122023     298510           1                  1          1\n",
       "\n",
       "[1384617 rows x 4 columns]"
      ],
      "text/html": "<div>\n<style scoped>\n    .dataframe tbody tr th:only-of-type {\n        vertical-align: middle;\n    }\n\n    .dataframe tbody tr th {\n        vertical-align: top;\n    }\n\n    .dataframe thead th {\n        text-align: right;\n    }\n</style>\n<table border=\"1\" class=\"dataframe\">\n  <thead>\n    <tr style=\"text-align: right;\">\n      <th></th>\n      <th>order_id</th>\n      <th>product_id</th>\n      <th>add_to_cart_order</th>\n      <th>reordered</th>\n    </tr>\n  </thead>\n  <tbody>\n    <tr>\n      <th>891142</th>\n      <td>2198380</td>\n      <td>49688</td>\n      <td>10</td>\n      <td>0</td>\n    </tr>\n    <tr>\n      <th>1209047</th>\n      <td>2986153</td>\n      <td>49688</td>\n      <td>16</td>\n      <td>0</td>\n    </tr>\n    <tr>\n      <th>269349</th>\n      <td>655800</td>\n      <td>49688</td>\n      <td>10</td>\n      <td>1</td>\n    </tr>\n    <tr>\n      <th>1014644</th>\n      <td>2508423</td>\n      <td>49688</td>\n      <td>3</td>\n      <td>0</td>\n    </tr>\n    <tr>\n      <th>446055</th>\n      <td>1092104</td>\n      <td>49687</td>\n      <td>1</td>\n      <td>0</td>\n    </tr>\n    <tr>\n      <th>...</th>\n      <td>...</td>\n      <td>...</td>\n      <td>...</td>\n      <td>...</td>\n    </tr>\n    <tr>\n      <th>507205</th>\n      <td>1245784</td>\n      <td>1</td>\n      <td>7</td>\n      <td>0</td>\n    </tr>\n    <tr>\n      <th>97272</th>\n      <td>240996</td>\n      <td>1</td>\n      <td>3</td>\n      <td>1</td>\n    </tr>\n    <tr>\n      <th>771078</th>\n      <td>1897200</td>\n      <td>1</td>\n      <td>24</td>\n      <td>1</td>\n    </tr>\n    <tr>\n      <th>19960</th>\n      <td>48361</td>\n      <td>1</td>\n      <td>9</td>\n      <td>0</td>\n    </tr>\n    <tr>\n      <th>122023</th>\n      <td>298510</td>\n      <td>1</td>\n      <td>1</td>\n      <td>1</td>\n    </tr>\n  </tbody>\n</table>\n<p>1384617 rows × 4 columns</p>\n</div>"
     },
     "metadata": {},
     "execution_count": 20
    }
   ],
   "source": [
    "temp = order_products__train.sort_values('product_id', ascending=False)\n",
    "temp"
   ]
  },
  {
   "cell_type": "code",
   "execution_count": 23,
   "metadata": {},
   "outputs": [
    {
     "output_type": "execute_result",
     "data": {
      "text/plain": [
       "            order_id  add_to_cart_order  reordered\n",
       "product_id                                        \n",
       "24852          18726              18726      18726\n",
       "13176          15480              15480      15480\n",
       "21137          10894              10894      10894\n",
       "21903           9784               9784       9784\n",
       "47626           8135               8135       8135\n",
       "...              ...                ...        ...\n",
       "33470              1                  1          1\n",
       "19973              1                  1          1\n",
       "19969              1                  1          1\n",
       "9782               1                  1          1\n",
       "24836              1                  1          1\n",
       "\n",
       "[39123 rows x 3 columns]"
      ],
      "text/html": "<div>\n<style scoped>\n    .dataframe tbody tr th:only-of-type {\n        vertical-align: middle;\n    }\n\n    .dataframe tbody tr th {\n        vertical-align: top;\n    }\n\n    .dataframe thead th {\n        text-align: right;\n    }\n</style>\n<table border=\"1\" class=\"dataframe\">\n  <thead>\n    <tr style=\"text-align: right;\">\n      <th></th>\n      <th>order_id</th>\n      <th>add_to_cart_order</th>\n      <th>reordered</th>\n    </tr>\n    <tr>\n      <th>product_id</th>\n      <th></th>\n      <th></th>\n      <th></th>\n    </tr>\n  </thead>\n  <tbody>\n    <tr>\n      <th>24852</th>\n      <td>18726</td>\n      <td>18726</td>\n      <td>18726</td>\n    </tr>\n    <tr>\n      <th>13176</th>\n      <td>15480</td>\n      <td>15480</td>\n      <td>15480</td>\n    </tr>\n    <tr>\n      <th>21137</th>\n      <td>10894</td>\n      <td>10894</td>\n      <td>10894</td>\n    </tr>\n    <tr>\n      <th>21903</th>\n      <td>9784</td>\n      <td>9784</td>\n      <td>9784</td>\n    </tr>\n    <tr>\n      <th>47626</th>\n      <td>8135</td>\n      <td>8135</td>\n      <td>8135</td>\n    </tr>\n    <tr>\n      <th>...</th>\n      <td>...</td>\n      <td>...</td>\n      <td>...</td>\n    </tr>\n    <tr>\n      <th>33470</th>\n      <td>1</td>\n      <td>1</td>\n      <td>1</td>\n    </tr>\n    <tr>\n      <th>19973</th>\n      <td>1</td>\n      <td>1</td>\n      <td>1</td>\n    </tr>\n    <tr>\n      <th>19969</th>\n      <td>1</td>\n      <td>1</td>\n      <td>1</td>\n    </tr>\n    <tr>\n      <th>9782</th>\n      <td>1</td>\n      <td>1</td>\n      <td>1</td>\n    </tr>\n    <tr>\n      <th>24836</th>\n      <td>1</td>\n      <td>1</td>\n      <td>1</td>\n    </tr>\n  </tbody>\n</table>\n<p>39123 rows × 3 columns</p>\n</div>"
     },
     "metadata": {},
     "execution_count": 23
    }
   ],
   "source": [
    "# Let us group by product_id and get a count of how many times a product was ordered and count them\n",
    "temp.groupby('product_id').count()"
   ]
  },
  {
   "cell_type": "code",
   "execution_count": 24,
   "metadata": {},
   "outputs": [
    {
     "output_type": "execute_result",
     "data": {
      "text/plain": [
       "            order_id  add_to_cart_order  reordered\n",
       "product_id                                        \n",
       "24852          18726              18726      18726\n",
       "13176          15480              15480      15480\n",
       "21137          10894              10894      10894\n",
       "21903           9784               9784       9784\n",
       "47626           8135               8135       8135\n",
       "...              ...                ...        ...\n",
       "33470              1                  1          1\n",
       "19973              1                  1          1\n",
       "19969              1                  1          1\n",
       "9782               1                  1          1\n",
       "24836              1                  1          1\n",
       "\n",
       "[39123 rows x 3 columns]"
      ],
      "text/html": "<div>\n<style scoped>\n    .dataframe tbody tr th:only-of-type {\n        vertical-align: middle;\n    }\n\n    .dataframe tbody tr th {\n        vertical-align: top;\n    }\n\n    .dataframe thead th {\n        text-align: right;\n    }\n</style>\n<table border=\"1\" class=\"dataframe\">\n  <thead>\n    <tr style=\"text-align: right;\">\n      <th></th>\n      <th>order_id</th>\n      <th>add_to_cart_order</th>\n      <th>reordered</th>\n    </tr>\n    <tr>\n      <th>product_id</th>\n      <th></th>\n      <th></th>\n      <th></th>\n    </tr>\n  </thead>\n  <tbody>\n    <tr>\n      <th>24852</th>\n      <td>18726</td>\n      <td>18726</td>\n      <td>18726</td>\n    </tr>\n    <tr>\n      <th>13176</th>\n      <td>15480</td>\n      <td>15480</td>\n      <td>15480</td>\n    </tr>\n    <tr>\n      <th>21137</th>\n      <td>10894</td>\n      <td>10894</td>\n      <td>10894</td>\n    </tr>\n    <tr>\n      <th>21903</th>\n      <td>9784</td>\n      <td>9784</td>\n      <td>9784</td>\n    </tr>\n    <tr>\n      <th>47626</th>\n      <td>8135</td>\n      <td>8135</td>\n      <td>8135</td>\n    </tr>\n    <tr>\n      <th>...</th>\n      <td>...</td>\n      <td>...</td>\n      <td>...</td>\n    </tr>\n    <tr>\n      <th>33470</th>\n      <td>1</td>\n      <td>1</td>\n      <td>1</td>\n    </tr>\n    <tr>\n      <th>19973</th>\n      <td>1</td>\n      <td>1</td>\n      <td>1</td>\n    </tr>\n    <tr>\n      <th>19969</th>\n      <td>1</td>\n      <td>1</td>\n      <td>1</td>\n    </tr>\n    <tr>\n      <th>9782</th>\n      <td>1</td>\n      <td>1</td>\n      <td>1</td>\n    </tr>\n    <tr>\n      <th>24836</th>\n      <td>1</td>\n      <td>1</td>\n      <td>1</td>\n    </tr>\n  </tbody>\n</table>\n<p>39123 rows × 3 columns</p>\n</div>"
     },
     "metadata": {},
     "execution_count": 24
    }
   ],
   "source": [
    "products_ordered = order_products__train.groupby('product_id').count().sort_values('order_id', ascending=False)"
   ]
  },
  {
   "cell_type": "code",
   "execution_count": 28,
   "metadata": {},
   "outputs": [
    {
     "output_type": "execute_result",
     "data": {
      "text/plain": [
       "       product_id product_name  aisle_id  department_id\n",
       "24851       24852       Banana        24              4"
      ],
      "text/html": "<div>\n<style scoped>\n    .dataframe tbody tr th:only-of-type {\n        vertical-align: middle;\n    }\n\n    .dataframe tbody tr th {\n        vertical-align: top;\n    }\n\n    .dataframe thead th {\n        text-align: right;\n    }\n</style>\n<table border=\"1\" class=\"dataframe\">\n  <thead>\n    <tr style=\"text-align: right;\">\n      <th></th>\n      <th>product_id</th>\n      <th>product_name</th>\n      <th>aisle_id</th>\n      <th>department_id</th>\n    </tr>\n  </thead>\n  <tbody>\n    <tr>\n      <th>24851</th>\n      <td>24852</td>\n      <td>Banana</td>\n      <td>24</td>\n      <td>4</td>\n    </tr>\n  </tbody>\n</table>\n</div>"
     },
     "metadata": {},
     "execution_count": 28
    }
   ],
   "source": [
    "products = pd.read_csv('products.csv')\n",
    "products[products.product_id == 24852]"
   ]
  },
  {
   "cell_type": "code",
   "execution_count": 33,
   "metadata": {},
   "outputs": [
    {
     "output_type": "execute_result",
     "data": {
      "text/plain": [
       "   order_id  product_id  add_to_cart_order  reordered      product_name  \\\n",
       "0         1       49302                  1          1  Bulgarian Yogurt   \n",
       "1    816049       49302                  7          1  Bulgarian Yogurt   \n",
       "2   1242203       49302                  1          1  Bulgarian Yogurt   \n",
       "3   1383349       49302                 11          1  Bulgarian Yogurt   \n",
       "4   1787378       49302                  8          0  Bulgarian Yogurt   \n",
       "\n",
       "   aisle_id  department_id  \n",
       "0       120             16  \n",
       "1       120             16  \n",
       "2       120             16  \n",
       "3       120             16  \n",
       "4       120             16  "
      ],
      "text/html": "<div>\n<style scoped>\n    .dataframe tbody tr th:only-of-type {\n        vertical-align: middle;\n    }\n\n    .dataframe tbody tr th {\n        vertical-align: top;\n    }\n\n    .dataframe thead th {\n        text-align: right;\n    }\n</style>\n<table border=\"1\" class=\"dataframe\">\n  <thead>\n    <tr style=\"text-align: right;\">\n      <th></th>\n      <th>order_id</th>\n      <th>product_id</th>\n      <th>add_to_cart_order</th>\n      <th>reordered</th>\n      <th>product_name</th>\n      <th>aisle_id</th>\n      <th>department_id</th>\n    </tr>\n  </thead>\n  <tbody>\n    <tr>\n      <th>0</th>\n      <td>1</td>\n      <td>49302</td>\n      <td>1</td>\n      <td>1</td>\n      <td>Bulgarian Yogurt</td>\n      <td>120</td>\n      <td>16</td>\n    </tr>\n    <tr>\n      <th>1</th>\n      <td>816049</td>\n      <td>49302</td>\n      <td>7</td>\n      <td>1</td>\n      <td>Bulgarian Yogurt</td>\n      <td>120</td>\n      <td>16</td>\n    </tr>\n    <tr>\n      <th>2</th>\n      <td>1242203</td>\n      <td>49302</td>\n      <td>1</td>\n      <td>1</td>\n      <td>Bulgarian Yogurt</td>\n      <td>120</td>\n      <td>16</td>\n    </tr>\n    <tr>\n      <th>3</th>\n      <td>1383349</td>\n      <td>49302</td>\n      <td>11</td>\n      <td>1</td>\n      <td>Bulgarian Yogurt</td>\n      <td>120</td>\n      <td>16</td>\n    </tr>\n    <tr>\n      <th>4</th>\n      <td>1787378</td>\n      <td>49302</td>\n      <td>8</td>\n      <td>0</td>\n      <td>Bulgarian Yogurt</td>\n      <td>120</td>\n      <td>16</td>\n    </tr>\n  </tbody>\n</table>\n</div>"
     },
     "metadata": {},
     "execution_count": 33
    }
   ],
   "source": [
    "# Creating our train dataset by erging orders with the products\n",
    "\n",
    "train = pd.merge(order_products__train, products, on='product_id', how='inner')\n",
    "train.head()"
   ]
  },
  {
   "cell_type": "markdown",
   "metadata": {
    "colab_type": "text",
    "id": "56eJ-Gkdw-6g"
   },
   "source": [
    "### How often are bananas included in a customer's next order?\n",
    "\n",
    "There are [three sets of data](https://gist.github.com/jeremystan/c3b39d947d9b88b3ccff3147dbcf6c6b):\n",
    "\n",
    "> \"prior\": orders prior to that users most recent order (3.2m orders)  \n",
    "\"train\": training data supplied to participants (131k orders)  \n",
    "\"test\": test data reserved for machine learning competitions (75k orders)\n",
    "\n",
    "Customers' next orders are in the \"train\" and \"test\" sets. (The \"prior\" set has the orders prior to the most recent orders.)\n",
    "\n",
    "We can't use the \"test\" set here, because we don't have its labels (only Kaggle & Instacart have them), so we don't know what products were bought in the \"test\" set orders.\n",
    "\n",
    "So, we'll use the \"train\" set. It currently has one row per product_id and multiple rows per order_id.\n",
    "\n",
    "But we don't want that. Instead we want one row per order_id, with a binary column: \"Did the order include bananas?\"\n",
    "\n",
    "Let's wrangle!"
   ]
  },
  {
   "cell_type": "code",
   "execution_count": 34,
   "metadata": {
    "colab": {
     "base_uri": "https://localhost:8080/",
     "height": 235
    },
    "colab_type": "code",
    "id": "pWaneblAAp0f",
    "outputId": "3808065d-579c-4a8f-bb0b-b2f14acdb111"
   },
   "outputs": [
    {
     "output_type": "execute_result",
     "data": {
      "text/plain": [
       "         order_id  product_id  add_to_cart_order  reordered  \\\n",
       "1          816049       49302                  7          1   \n",
       "26911      816049       22035                 14          0   \n",
       "47740      816049       20574                  2          1   \n",
       "196442     816049       41220                  4          0   \n",
       "264132     816049       34969                  1          1   \n",
       "355646     816049        7503                 15          0   \n",
       "363747     816049       19446                 16          0   \n",
       "370530     816049       44142                  8          0   \n",
       "552816     816049       36772                 12          0   \n",
       "603546     816049       26604                 11          0   \n",
       "731632     816049       17948                  9          1   \n",
       "743018     816049        1158                 13          0   \n",
       "850389     816049       38200                 10          1   \n",
       "885283     816049       14267                  6          1   \n",
       "1003220    816049       20118                  3          1   \n",
       "1088001    816049       35176                  5          1   \n",
       "\n",
       "                                            product_name  aisle_id  \\\n",
       "1                                       Bulgarian Yogurt       120   \n",
       "26911                        Organic Whole String Cheese        21   \n",
       "47740                                     Roasted Turkey        96   \n",
       "196442                           Organic Romaine Lettuce        83   \n",
       "264132                                   Red Vine Tomato        83   \n",
       "355646                                     Whole Almonds       117   \n",
       "363747                              Thick & Chunky Salsa        67   \n",
       "370530                                         Red Onion        83   \n",
       "552816   Bunny Pasta with Yummy Cheese Macaroni & Cheese         4   \n",
       "603546                              Organic Blackberries        24   \n",
       "731632                   Frozen Organic Wild Blueberries       116   \n",
       "743018                                      Mango Chunks       116   \n",
       "850389                                       Apple Juice        31   \n",
       "885283                       Organic Refried Black Beans        59   \n",
       "1003220                Krinkle Cut Sea Salt Potato Chips       107   \n",
       "1088001                 Cream Cheese Cream Cheese Spread       108   \n",
       "\n",
       "         department_id  \n",
       "1                   16  \n",
       "26911               16  \n",
       "47740               20  \n",
       "196442               4  \n",
       "264132               4  \n",
       "355646              19  \n",
       "363747              20  \n",
       "370530               4  \n",
       "552816               9  \n",
       "603546               4  \n",
       "731632               1  \n",
       "743018               1  \n",
       "850389               7  \n",
       "885283              15  \n",
       "1003220             19  \n",
       "1088001             16  "
      ],
      "text/html": "<div>\n<style scoped>\n    .dataframe tbody tr th:only-of-type {\n        vertical-align: middle;\n    }\n\n    .dataframe tbody tr th {\n        vertical-align: top;\n    }\n\n    .dataframe thead th {\n        text-align: right;\n    }\n</style>\n<table border=\"1\" class=\"dataframe\">\n  <thead>\n    <tr style=\"text-align: right;\">\n      <th></th>\n      <th>order_id</th>\n      <th>product_id</th>\n      <th>add_to_cart_order</th>\n      <th>reordered</th>\n      <th>product_name</th>\n      <th>aisle_id</th>\n      <th>department_id</th>\n    </tr>\n  </thead>\n  <tbody>\n    <tr>\n      <th>1</th>\n      <td>816049</td>\n      <td>49302</td>\n      <td>7</td>\n      <td>1</td>\n      <td>Bulgarian Yogurt</td>\n      <td>120</td>\n      <td>16</td>\n    </tr>\n    <tr>\n      <th>26911</th>\n      <td>816049</td>\n      <td>22035</td>\n      <td>14</td>\n      <td>0</td>\n      <td>Organic Whole String Cheese</td>\n      <td>21</td>\n      <td>16</td>\n    </tr>\n    <tr>\n      <th>47740</th>\n      <td>816049</td>\n      <td>20574</td>\n      <td>2</td>\n      <td>1</td>\n      <td>Roasted Turkey</td>\n      <td>96</td>\n      <td>20</td>\n    </tr>\n    <tr>\n      <th>196442</th>\n      <td>816049</td>\n      <td>41220</td>\n      <td>4</td>\n      <td>0</td>\n      <td>Organic Romaine Lettuce</td>\n      <td>83</td>\n      <td>4</td>\n    </tr>\n    <tr>\n      <th>264132</th>\n      <td>816049</td>\n      <td>34969</td>\n      <td>1</td>\n      <td>1</td>\n      <td>Red Vine Tomato</td>\n      <td>83</td>\n      <td>4</td>\n    </tr>\n    <tr>\n      <th>355646</th>\n      <td>816049</td>\n      <td>7503</td>\n      <td>15</td>\n      <td>0</td>\n      <td>Whole Almonds</td>\n      <td>117</td>\n      <td>19</td>\n    </tr>\n    <tr>\n      <th>363747</th>\n      <td>816049</td>\n      <td>19446</td>\n      <td>16</td>\n      <td>0</td>\n      <td>Thick &amp; Chunky Salsa</td>\n      <td>67</td>\n      <td>20</td>\n    </tr>\n    <tr>\n      <th>370530</th>\n      <td>816049</td>\n      <td>44142</td>\n      <td>8</td>\n      <td>0</td>\n      <td>Red Onion</td>\n      <td>83</td>\n      <td>4</td>\n    </tr>\n    <tr>\n      <th>552816</th>\n      <td>816049</td>\n      <td>36772</td>\n      <td>12</td>\n      <td>0</td>\n      <td>Bunny Pasta with Yummy Cheese Macaroni &amp; Cheese</td>\n      <td>4</td>\n      <td>9</td>\n    </tr>\n    <tr>\n      <th>603546</th>\n      <td>816049</td>\n      <td>26604</td>\n      <td>11</td>\n      <td>0</td>\n      <td>Organic Blackberries</td>\n      <td>24</td>\n      <td>4</td>\n    </tr>\n    <tr>\n      <th>731632</th>\n      <td>816049</td>\n      <td>17948</td>\n      <td>9</td>\n      <td>1</td>\n      <td>Frozen Organic Wild Blueberries</td>\n      <td>116</td>\n      <td>1</td>\n    </tr>\n    <tr>\n      <th>743018</th>\n      <td>816049</td>\n      <td>1158</td>\n      <td>13</td>\n      <td>0</td>\n      <td>Mango Chunks</td>\n      <td>116</td>\n      <td>1</td>\n    </tr>\n    <tr>\n      <th>850389</th>\n      <td>816049</td>\n      <td>38200</td>\n      <td>10</td>\n      <td>1</td>\n      <td>Apple Juice</td>\n      <td>31</td>\n      <td>7</td>\n    </tr>\n    <tr>\n      <th>885283</th>\n      <td>816049</td>\n      <td>14267</td>\n      <td>6</td>\n      <td>1</td>\n      <td>Organic Refried Black Beans</td>\n      <td>59</td>\n      <td>15</td>\n    </tr>\n    <tr>\n      <th>1003220</th>\n      <td>816049</td>\n      <td>20118</td>\n      <td>3</td>\n      <td>1</td>\n      <td>Krinkle Cut Sea Salt Potato Chips</td>\n      <td>107</td>\n      <td>19</td>\n    </tr>\n    <tr>\n      <th>1088001</th>\n      <td>816049</td>\n      <td>35176</td>\n      <td>5</td>\n      <td>1</td>\n      <td>Cream Cheese Cream Cheese Spread</td>\n      <td>108</td>\n      <td>16</td>\n    </tr>\n  </tbody>\n</table>\n</div>"
     },
     "metadata": {},
     "execution_count": 34
    }
   ],
   "source": [
    "# let's just look at a single order to get a handle of what we need to do\n",
    "train[train['order_id'] == 816049]"
   ]
  },
  {
   "cell_type": "code",
   "execution_count": 36,
   "metadata": {},
   "outputs": [
    {
     "output_type": "execute_result",
     "data": {
      "text/plain": [
       "   order_id  product_id  add_to_cart_order  reordered      product_name  \\\n",
       "0         1       49302                  1          1  Bulgarian Yogurt   \n",
       "1    816049       49302                  7          1  Bulgarian Yogurt   \n",
       "2   1242203       49302                  1          1  Bulgarian Yogurt   \n",
       "3   1383349       49302                 11          1  Bulgarian Yogurt   \n",
       "4   1787378       49302                  8          0  Bulgarian Yogurt   \n",
       "\n",
       "   aisle_id  department_id  has_banana  \n",
       "0       120             16       False  \n",
       "1       120             16       False  \n",
       "2       120             16       False  \n",
       "3       120             16       False  \n",
       "4       120             16       False  "
      ],
      "text/html": "<div>\n<style scoped>\n    .dataframe tbody tr th:only-of-type {\n        vertical-align: middle;\n    }\n\n    .dataframe tbody tr th {\n        vertical-align: top;\n    }\n\n    .dataframe thead th {\n        text-align: right;\n    }\n</style>\n<table border=\"1\" class=\"dataframe\">\n  <thead>\n    <tr style=\"text-align: right;\">\n      <th></th>\n      <th>order_id</th>\n      <th>product_id</th>\n      <th>add_to_cart_order</th>\n      <th>reordered</th>\n      <th>product_name</th>\n      <th>aisle_id</th>\n      <th>department_id</th>\n      <th>has_banana</th>\n    </tr>\n  </thead>\n  <tbody>\n    <tr>\n      <th>0</th>\n      <td>1</td>\n      <td>49302</td>\n      <td>1</td>\n      <td>1</td>\n      <td>Bulgarian Yogurt</td>\n      <td>120</td>\n      <td>16</td>\n      <td>False</td>\n    </tr>\n    <tr>\n      <th>1</th>\n      <td>816049</td>\n      <td>49302</td>\n      <td>7</td>\n      <td>1</td>\n      <td>Bulgarian Yogurt</td>\n      <td>120</td>\n      <td>16</td>\n      <td>False</td>\n    </tr>\n    <tr>\n      <th>2</th>\n      <td>1242203</td>\n      <td>49302</td>\n      <td>1</td>\n      <td>1</td>\n      <td>Bulgarian Yogurt</td>\n      <td>120</td>\n      <td>16</td>\n      <td>False</td>\n    </tr>\n    <tr>\n      <th>3</th>\n      <td>1383349</td>\n      <td>49302</td>\n      <td>11</td>\n      <td>1</td>\n      <td>Bulgarian Yogurt</td>\n      <td>120</td>\n      <td>16</td>\n      <td>False</td>\n    </tr>\n    <tr>\n      <th>4</th>\n      <td>1787378</td>\n      <td>49302</td>\n      <td>8</td>\n      <td>0</td>\n      <td>Bulgarian Yogurt</td>\n      <td>120</td>\n      <td>16</td>\n      <td>False</td>\n    </tr>\n  </tbody>\n</table>\n</div>"
     },
     "metadata": {},
     "execution_count": 36
    }
   ],
   "source": [
    "# Let's come up with a boolean for whether an order has a banana or not\n",
    "\n",
    "train['has_banana'] = train['product_name'] =='Banana'\n",
    "train.head()"
   ]
  },
  {
   "cell_type": "code",
   "execution_count": 37,
   "metadata": {},
   "outputs": [
    {
     "output_type": "execute_result",
     "data": {
      "text/plain": [
       "False    0.986476\n",
       "True     0.013524\n",
       "Name: has_banana, dtype: float64"
      ]
     },
     "metadata": {},
     "execution_count": 37
    }
   ],
   "source": [
    "# How many of the products were bananas?\n",
    "\n",
    "train['has_banana'].value_counts(normalize=True)"
   ]
  },
  {
   "cell_type": "code",
   "execution_count": 48,
   "metadata": {},
   "outputs": [
    {
     "output_type": "execute_result",
     "data": {
      "text/plain": [
       "(1384617, 8)"
      ]
     },
     "metadata": {},
     "execution_count": 48
    }
   ],
   "source": [
    "train.shape"
   ]
  },
  {
   "cell_type": "code",
   "execution_count": 47,
   "metadata": {},
   "outputs": [
    {
     "output_type": "execute_result",
     "data": {
      "text/plain": [
       "          product_id  add_to_cart_order  reordered  product_name  aisle_id  \\\n",
       "order_id                                                                     \n",
       "1               True               True       True          True      True   \n",
       "36              True               True       True          True      True   \n",
       "38              True               True       True          True      True   \n",
       "96              True               True       True          True      True   \n",
       "98              True               True       True          True      True   \n",
       "...              ...                ...        ...           ...       ...   \n",
       "3421049         True               True       True          True      True   \n",
       "3421056         True               True       True          True      True   \n",
       "3421058         True               True       True          True      True   \n",
       "3421063         True               True       True          True      True   \n",
       "3421070         True               True       True          True      True   \n",
       "\n",
       "          department_id  has_banana  \n",
       "order_id                             \n",
       "1                  True       False  \n",
       "36                 True       False  \n",
       "38                 True       False  \n",
       "96                 True       False  \n",
       "98                 True       False  \n",
       "...                 ...         ...  \n",
       "3421049            True       False  \n",
       "3421056            True       False  \n",
       "3421058            True       False  \n",
       "3421063            True       False  \n",
       "3421070            True       False  \n",
       "\n",
       "[131209 rows x 7 columns]"
      ],
      "text/html": "<div>\n<style scoped>\n    .dataframe tbody tr th:only-of-type {\n        vertical-align: middle;\n    }\n\n    .dataframe tbody tr th {\n        vertical-align: top;\n    }\n\n    .dataframe thead th {\n        text-align: right;\n    }\n</style>\n<table border=\"1\" class=\"dataframe\">\n  <thead>\n    <tr style=\"text-align: right;\">\n      <th></th>\n      <th>product_id</th>\n      <th>add_to_cart_order</th>\n      <th>reordered</th>\n      <th>product_name</th>\n      <th>aisle_id</th>\n      <th>department_id</th>\n      <th>has_banana</th>\n    </tr>\n    <tr>\n      <th>order_id</th>\n      <th></th>\n      <th></th>\n      <th></th>\n      <th></th>\n      <th></th>\n      <th></th>\n      <th></th>\n    </tr>\n  </thead>\n  <tbody>\n    <tr>\n      <th>1</th>\n      <td>True</td>\n      <td>True</td>\n      <td>True</td>\n      <td>True</td>\n      <td>True</td>\n      <td>True</td>\n      <td>False</td>\n    </tr>\n    <tr>\n      <th>36</th>\n      <td>True</td>\n      <td>True</td>\n      <td>True</td>\n      <td>True</td>\n      <td>True</td>\n      <td>True</td>\n      <td>False</td>\n    </tr>\n    <tr>\n      <th>38</th>\n      <td>True</td>\n      <td>True</td>\n      <td>True</td>\n      <td>True</td>\n      <td>True</td>\n      <td>True</td>\n      <td>False</td>\n    </tr>\n    <tr>\n      <th>96</th>\n      <td>True</td>\n      <td>True</td>\n      <td>True</td>\n      <td>True</td>\n      <td>True</td>\n      <td>True</td>\n      <td>False</td>\n    </tr>\n    <tr>\n      <th>98</th>\n      <td>True</td>\n      <td>True</td>\n      <td>True</td>\n      <td>True</td>\n      <td>True</td>\n      <td>True</td>\n      <td>False</td>\n    </tr>\n    <tr>\n      <th>...</th>\n      <td>...</td>\n      <td>...</td>\n      <td>...</td>\n      <td>...</td>\n      <td>...</td>\n      <td>...</td>\n      <td>...</td>\n    </tr>\n    <tr>\n      <th>3421049</th>\n      <td>True</td>\n      <td>True</td>\n      <td>True</td>\n      <td>True</td>\n      <td>True</td>\n      <td>True</td>\n      <td>False</td>\n    </tr>\n    <tr>\n      <th>3421056</th>\n      <td>True</td>\n      <td>True</td>\n      <td>True</td>\n      <td>True</td>\n      <td>True</td>\n      <td>True</td>\n      <td>False</td>\n    </tr>\n    <tr>\n      <th>3421058</th>\n      <td>True</td>\n      <td>True</td>\n      <td>True</td>\n      <td>True</td>\n      <td>True</td>\n      <td>True</td>\n      <td>False</td>\n    </tr>\n    <tr>\n      <th>3421063</th>\n      <td>True</td>\n      <td>True</td>\n      <td>True</td>\n      <td>True</td>\n      <td>True</td>\n      <td>True</td>\n      <td>False</td>\n    </tr>\n    <tr>\n      <th>3421070</th>\n      <td>True</td>\n      <td>True</td>\n      <td>True</td>\n      <td>True</td>\n      <td>True</td>\n      <td>True</td>\n      <td>False</td>\n    </tr>\n  </tbody>\n</table>\n<p>131209 rows × 7 columns</p>\n</div>"
     },
     "metadata": {},
     "execution_count": 47
    }
   ],
   "source": [
    "train_wrangled = train.groupby('order_id').any()\n",
    "train_wrangled"
   ]
  },
  {
   "cell_type": "code",
   "execution_count": 49,
   "metadata": {},
   "outputs": [
    {
     "output_type": "execute_result",
     "data": {
      "text/plain": [
       "False    0.857281\n",
       "True     0.142719\n",
       "Name: has_banana, dtype: float64"
      ]
     },
     "metadata": {},
     "execution_count": 49
    }
   ],
   "source": [
    "# how many of the ordered contained bananas\n",
    "\n",
    "train_wrangled = train.groupby('order_id')['has_banana'].any().reset_index()\n",
    "train_wrangled['has_banana'].value_counts(normalize=True)\n",
    "\n",
    "# 14% of the orderes had bananas"
   ]
  },
  {
   "cell_type": "markdown",
   "metadata": {},
   "source": [
    "# Join relational data for supervised machine learning"
   ]
  },
  {
   "cell_type": "markdown",
   "metadata": {},
   "source": [
    "## Overview\n",
    "Often, you’ll need to join data from multiple relational tables before you’re ready to fit your models."
   ]
  },
  {
   "cell_type": "markdown",
   "metadata": {
    "colab_type": "text",
    "id": "SbOI93-Sw-6i"
   },
   "source": [
    "### Which customers have ordered this product before?\n",
    "\n",
    "- Customers are identified by `user_id`\n",
    "- Products are identified by `product_id`\n",
    "\n",
    "Do we have a table with both these id's? (If not, how can we combine this information?)"
   ]
  },
  {
   "cell_type": "code",
   "execution_count": null,
   "metadata": {
    "colab": {
     "base_uri": "https://localhost:8080/",
     "height": 1000
    },
    "colab_type": "code",
    "id": "F98dwqAUw-6j",
    "outputId": "8a5006a7-4d19-4754-931b-4ee6d1bb42c6"
   },
   "outputs": [],
   "source": [
    "# We do not yet have a table that contains the user_id and product_id\n",
    "# orders.csv has the user_id and order_id\n",
    "# order_products contains order_id and product_id\n",
    "\n",
    "previous_orders = pd.merge(order_products__train, products, on='product_id', how='inner')"
   ]
  },
  {
   "cell_type": "code",
   "execution_count": 51,
   "metadata": {},
   "outputs": [
    {
     "output_type": "execute_result",
     "data": {
      "text/plain": [
       "129688        226\n",
       "129689        473\n",
       "129690        878\n",
       "129691       1042\n",
       "129692       1139\n",
       "           ...   \n",
       "148409    3419531\n",
       "148410    3419542\n",
       "148411    3419629\n",
       "148412    3420088\n",
       "148413    3420996\n",
       "Name: order_id, Length: 18726, dtype: int64"
      ]
     },
     "metadata": {},
     "execution_count": 51
    }
   ],
   "source": [
    "banana_order_ids = train[train['has_banana']==True]['order_id']\n",
    "banana_order_ids"
   ]
  },
  {
   "cell_type": "code",
   "execution_count": 63,
   "metadata": {},
   "outputs": [
    {
     "output_type": "execute_result",
     "data": {
      "text/plain": [
       "((3421083, 7), (18726, 7))"
      ]
     },
     "metadata": {},
     "execution_count": 63
    }
   ],
   "source": [
    "# Let's look at the order table\n",
    "\n",
    "orders = pd.read_csv('orders.csv')\n",
    "\n",
    "# Getting the subset of the orders table which contain bananas\n",
    "\n",
    "banana_orders = orders[orders['order_id'].isin(banana_order_ids)]\n",
    "orders.shape, banana_orders.shape"
   ]
  },
  {
   "cell_type": "code",
   "execution_count": 70,
   "metadata": {},
   "outputs": [
    {
     "output_type": "execute_result",
     "data": {
      "text/plain": [
       "25              2\n",
       "485            34\n",
       "623            43\n",
       "652            46\n",
       "881            56\n",
       "            ...  \n",
       "3420581    206181\n",
       "3420692    206191\n",
       "3420786    206196\n",
       "3420933    206205\n",
       "3421082    206209\n",
       "Name: user_id, Length: 18726, dtype: int64"
      ]
     },
     "metadata": {},
     "execution_count": 70
    }
   ],
   "source": [
    "# Now get the user_ids of everyone who has bought bananas!\n",
    "\n",
    "banana_user_ids = banana_orders['user_id']\n",
    "banana_user_ids"
   ]
  },
  {
   "cell_type": "markdown",
   "metadata": {},
   "source": [
    "## Follow Along"
   ]
  },
  {
   "cell_type": "markdown",
   "metadata": {
    "colab_type": "text",
    "id": "lCy_4L_tw-6k"
   },
   "source": [
    "### How can we get a subset of data, just for these customers?\n",
    "\n",
    "We want *all* the orders from customers who have *ever* bought bananas.\n",
    "\n",
    "(And *none* of the orders from customers who have *never* bought bananas.)"
   ]
  },
  {
   "cell_type": "code",
   "execution_count": 75,
   "metadata": {
    "colab": {
     "base_uri": "https://localhost:8080/",
     "height": 34
    },
    "colab_type": "code",
    "id": "IKlvuzBSw-6l",
    "outputId": "d9489b05-b8d7-4cf7-dd03-070a81174dad"
   },
   "outputs": [
    {
     "output_type": "execute_result",
     "data": {
      "text/plain": [
       "(332661, 7)"
      ]
     },
     "metadata": {},
     "execution_count": 75
    }
   ],
   "source": [
    "orders_customers_who_bought_bananas = orders[orders['user_id'].isin(banana_user_ids)]\n",
    "orders_customers_who_bought_bananas.shape"
   ]
  },
  {
   "cell_type": "markdown",
   "metadata": {
    "colab_type": "text",
    "id": "Kh5Xhqrpw-6m"
   },
   "source": [
    "### What features can we engineer? We want to predict, will these customers reorder bananas on their next order?"
   ]
  },
  {
   "cell_type": "code",
   "execution_count": null,
   "metadata": {
    "colab": {
     "base_uri": "https://localhost:8080/",
     "height": 1000
    },
    "colab_type": "code",
    "id": "Uluspye5LQAI",
    "outputId": "a8002c14-6397-4094-e6bd-351abe40f06c"
   },
   "outputs": [],
   "source": [
    "# products per order\n",
    "# time of the dat of the order (breaking apart the datetime)\n",
    "# have they reordered bananas before?\n",
    "# size of the order\n",
    "# frequency of banana orders"
   ]
  },
  {
   "cell_type": "markdown",
   "metadata": {},
   "source": [
    "## Challenge\n",
    "\n",
    "**Continue to clean and explore your data.** Can you **engineer features** to help predict your target? For the evaluation metric you chose, what score would you get just by guessing? Can you **make a fast, first model** that beats guessing?\n",
    "\n",
    "We recommend that you use your portfolio project dataset for all assignments this sprint. But if you aren't ready yet, or you want more practice, then use the New York City property sales dataset today. Follow the instructions in the assignment notebook. [Here's a video walkthrough](https://youtu.be/pPWFw8UtBVg?t=584) you can refer to if you get stuck or want hints!"
   ]
  }
 ],
 "metadata": {
  "kernelspec": {
   "name": "python388jvsc74a57bd079540215d421b8bf3833d62b2c896ecc484592ad17eec5ea5f30ad9734ddc367",
   "display_name": "Python 3.8.8 64-bit ('unit_2': conda)"
  },
  "language_info": {
   "codemirror_mode": {
    "name": "ipython",
    "version": 3
   },
   "file_extension": ".py",
   "mimetype": "text/x-python",
   "name": "python",
   "nbconvert_exporter": "python",
   "pygments_lexer": "ipython3",
   "version": "3.8.8-final"
  }
 },
 "nbformat": 4,
 "nbformat_minor": 1
}